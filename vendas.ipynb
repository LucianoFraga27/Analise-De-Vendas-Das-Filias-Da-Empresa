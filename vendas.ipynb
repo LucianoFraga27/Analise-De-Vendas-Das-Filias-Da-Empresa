{
  "nbformat": 4,
  "nbformat_minor": 0,
  "metadata": {
    "colab": {
      "name": "vendas.ipynb",
      "provenance": [],
      "collapsed_sections": [],
      "mount_file_id": "13NqeFyB9YB93ekwZ-Prs2aY7bCMoXiUC",
      "authorship_tag": "ABX9TyNyzSKMj6ZFN1Y/mWyv8efj",
      "include_colab_link": true
    },
    "kernelspec": {
      "name": "python3",
      "display_name": "Python 3"
    },
    "language_info": {
      "name": "python"
    }
  },
  "cells": [
    {
      "cell_type": "markdown",
      "metadata": {
        "id": "view-in-github",
        "colab_type": "text"
      },
      "source": [
        "<a href=\"https://colab.research.google.com/github/LucianoFraga27/Analise-De-Vendas-Das-Filias-Da-Empresa/blob/main/vendas.ipynb\" target=\"_parent\"><img src=\"https://colab.research.google.com/assets/colab-badge.svg\" alt=\"Open In Colab\"/></a>"
      ]
    },
    {
      "cell_type": "code",
      "execution_count": 1,
      "metadata": {
        "id": "kg8-09vtFROX"
      },
      "outputs": [],
      "source": [
        ""
      ]
    },
    {
      "cell_type": "code",
      "source": [
        "import os\n",
        "import pandas as pd"
      ],
      "metadata": {
        "id": "Bhi3rfhxGR3E"
      },
      "execution_count": 2,
      "outputs": []
    },
    {
      "cell_type": "code",
      "source": [
        "# Percorrer todos os arquivos da base de dados (vendas)\n",
        "lista_arquivo = os.listdir(\"/content/drive/MyDrive/Curso básico python #/Vendas\")\n",
        "#display(lista_arquivo)\n"
      ],
      "metadata": {
        "colab": {
          "base_uri": "https://localhost:8080/",
          "height": 329
        },
        "id": "6vnD6OhDLJav",
        "outputId": "d19e0b0d-7405-4a1f-9d14-cf3a80a04334"
      },
      "execution_count": 4,
      "outputs": [
        {
          "output_type": "display_data",
          "data": {
            "text/plain": [
              "['Devolucoes - São Paulo.csv',\n",
              " 'Vendas - Porto Alegre.csv',\n",
              " 'Devolucoes - Recife.csv',\n",
              " 'Devolucoes - Porto Alegre.csv',\n",
              " 'Vendas - Fortaleza.csv',\n",
              " 'Devolucoes - Goiás.csv',\n",
              " 'Vendas - Salvador.csv',\n",
              " 'Devolucoes - Rio de Janeiro.csv',\n",
              " 'Devolucoes - Salvador.csv',\n",
              " 'Devolucoes - Curitiba.csv',\n",
              " 'Vendas - Rio de Janeiro.csv',\n",
              " 'Devolucoes - Fortaleza.csv',\n",
              " 'Vendas - São Paulo.csv',\n",
              " 'Vendas - Belo Horizonte.csv',\n",
              " 'Devolucoes - Belo Horizonte.csv',\n",
              " 'Vendas - Recife.csv',\n",
              " 'Vendas - Goiás.csv',\n",
              " 'Vendas - Curitiba.csv']"
            ]
          },
          "metadata": {}
        }
      ]
    }
  ]
}